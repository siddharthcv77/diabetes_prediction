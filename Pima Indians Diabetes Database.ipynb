{
 "cells": [
  {
   "cell_type": "code",
   "execution_count": 16,
   "id": "521d3f35",
   "metadata": {},
   "outputs": [],
   "source": [
    "import pandas as pd\n",
    "from sklearn.model_selection import train_test_split\n",
    "from sklearn.tree import DecisionTreeRegressor\n",
    "from sklearn.ensemble import RandomForestRegressor\n",
    "from sklearn.metrics import mean_absolute_error, mean_squared_error\n",
    "from sklearn.preprocessing import OneHotEncoder, StandardScaler\n",
    "from sklearn.linear_model import LinearRegression"
   ]
  },
  {
   "cell_type": "code",
   "execution_count": 6,
   "id": "265cd903",
   "metadata": {},
   "outputs": [],
   "source": [
    "data = pd.read_csv('diabetes.csv')"
   ]
  },
  {
   "cell_type": "code",
   "execution_count": 7,
   "id": "51f72594",
   "metadata": {},
   "outputs": [
    {
     "data": {
      "text/html": [
       "<div>\n",
       "<style scoped>\n",
       "    .dataframe tbody tr th:only-of-type {\n",
       "        vertical-align: middle;\n",
       "    }\n",
       "\n",
       "    .dataframe tbody tr th {\n",
       "        vertical-align: top;\n",
       "    }\n",
       "\n",
       "    .dataframe thead th {\n",
       "        text-align: right;\n",
       "    }\n",
       "</style>\n",
       "<table border=\"1\" class=\"dataframe\">\n",
       "  <thead>\n",
       "    <tr style=\"text-align: right;\">\n",
       "      <th></th>\n",
       "      <th>Pregnancies</th>\n",
       "      <th>Glucose</th>\n",
       "      <th>BloodPressure</th>\n",
       "      <th>SkinThickness</th>\n",
       "      <th>Insulin</th>\n",
       "      <th>BMI</th>\n",
       "      <th>DiabetesPedigreeFunction</th>\n",
       "      <th>Age</th>\n",
       "      <th>Outcome</th>\n",
       "    </tr>\n",
       "  </thead>\n",
       "  <tbody>\n",
       "    <tr>\n",
       "      <th>0</th>\n",
       "      <td>6</td>\n",
       "      <td>148</td>\n",
       "      <td>72</td>\n",
       "      <td>35</td>\n",
       "      <td>0</td>\n",
       "      <td>33.6</td>\n",
       "      <td>0.627</td>\n",
       "      <td>50</td>\n",
       "      <td>1</td>\n",
       "    </tr>\n",
       "    <tr>\n",
       "      <th>1</th>\n",
       "      <td>1</td>\n",
       "      <td>85</td>\n",
       "      <td>66</td>\n",
       "      <td>29</td>\n",
       "      <td>0</td>\n",
       "      <td>26.6</td>\n",
       "      <td>0.351</td>\n",
       "      <td>31</td>\n",
       "      <td>0</td>\n",
       "    </tr>\n",
       "    <tr>\n",
       "      <th>2</th>\n",
       "      <td>8</td>\n",
       "      <td>183</td>\n",
       "      <td>64</td>\n",
       "      <td>0</td>\n",
       "      <td>0</td>\n",
       "      <td>23.3</td>\n",
       "      <td>0.672</td>\n",
       "      <td>32</td>\n",
       "      <td>1</td>\n",
       "    </tr>\n",
       "    <tr>\n",
       "      <th>3</th>\n",
       "      <td>1</td>\n",
       "      <td>89</td>\n",
       "      <td>66</td>\n",
       "      <td>23</td>\n",
       "      <td>94</td>\n",
       "      <td>28.1</td>\n",
       "      <td>0.167</td>\n",
       "      <td>21</td>\n",
       "      <td>0</td>\n",
       "    </tr>\n",
       "    <tr>\n",
       "      <th>4</th>\n",
       "      <td>0</td>\n",
       "      <td>137</td>\n",
       "      <td>40</td>\n",
       "      <td>35</td>\n",
       "      <td>168</td>\n",
       "      <td>43.1</td>\n",
       "      <td>2.288</td>\n",
       "      <td>33</td>\n",
       "      <td>1</td>\n",
       "    </tr>\n",
       "  </tbody>\n",
       "</table>\n",
       "</div>"
      ],
      "text/plain": [
       "   Pregnancies  Glucose  BloodPressure  SkinThickness  Insulin   BMI  \\\n",
       "0            6      148             72             35        0  33.6   \n",
       "1            1       85             66             29        0  26.6   \n",
       "2            8      183             64              0        0  23.3   \n",
       "3            1       89             66             23       94  28.1   \n",
       "4            0      137             40             35      168  43.1   \n",
       "\n",
       "   DiabetesPedigreeFunction  Age  Outcome  \n",
       "0                     0.627   50        1  \n",
       "1                     0.351   31        0  \n",
       "2                     0.672   32        1  \n",
       "3                     0.167   21        0  \n",
       "4                     2.288   33        1  "
      ]
     },
     "execution_count": 7,
     "metadata": {},
     "output_type": "execute_result"
    }
   ],
   "source": [
    "data.head()"
   ]
  },
  {
   "cell_type": "code",
   "execution_count": 8,
   "id": "84c96f44",
   "metadata": {
    "scrolled": true
   },
   "outputs": [
    {
     "data": {
      "text/plain": [
       "(768, 9)"
      ]
     },
     "execution_count": 8,
     "metadata": {},
     "output_type": "execute_result"
    }
   ],
   "source": [
    "data.shape"
   ]
  },
  {
   "cell_type": "code",
   "execution_count": 9,
   "id": "55a63b4c",
   "metadata": {},
   "outputs": [
    {
     "data": {
      "text/plain": [
       "Index([], dtype='object')"
      ]
     },
     "execution_count": 9,
     "metadata": {},
     "output_type": "execute_result"
    }
   ],
   "source": [
    "null_columns = data.columns[data.isnull().any()]\n",
    "null_columns"
   ]
  },
  {
   "cell_type": "code",
   "execution_count": 10,
   "id": "976142e3",
   "metadata": {},
   "outputs": [
    {
     "name": "stdout",
     "output_type": "stream",
     "text": [
      "Training Set Dimensions: (537, 8)\n",
      "Validation Set Dimensions: (231, 8)\n"
     ]
    }
   ],
   "source": [
    "y = data['Outcome']\n",
    "X = data.drop(columns=['Outcome'])\n",
    "X_train, X_test, y_train, y_test = train_test_split(X, y, test_size=0.3)\n",
    "print(\"Training Set Dimensions:\", X_train.shape)\n",
    "print(\"Validation Set Dimensions:\", X_test.shape)"
   ]
  },
  {
   "cell_type": "code",
   "execution_count": 11,
   "id": "bd7279f2",
   "metadata": {},
   "outputs": [
    {
     "name": "stdout",
     "output_type": "stream",
     "text": [
      "depth with min error:  24\n",
      "min_error:  0.2813852813852814\n"
     ]
    }
   ],
   "source": [
    "import sys\n",
    "\n",
    "max_depth_list = [12,20,22,24,26,28,30,32,34,36,40]\n",
    "train_error = []\n",
    "test_error =[]\n",
    "min_test_error = sys.maxsize\n",
    "depth_with_min_error = -1\n",
    "\n",
    "for index, max_depth in enumerate(max_depth_list):\n",
    "\n",
    "    decisiontree = DecisionTreeRegressor(max_depth = max_depth, min_samples_split = 2)\n",
    "    decisiontree.fit(X_train, y_train)\n",
    "    error = mean_absolute_error(y_test,decisiontree.predict(X_test))\n",
    "    if(error < min_test_error):\n",
    "        min_test_error = error\n",
    "        depth_with_min_error = max_depth_list[index]\n",
    "#     train_error.append(mean_absolute_error(y_train,decisiontree.predict(X_train)))\n",
    "#     test_error.append(mean_absolute_error(y_test,decisiontree.predict(X_test)))\n",
    "    \n",
    "# print(\"train_error:\")    \n",
    "# print(train_error)\n",
    "# print(\"test_error:\")\n",
    "# print(test_error)\n",
    "print(\"depth with min error: \",depth_with_min_error)\n",
    "print(\"min_error: \",min_test_error)"
   ]
  },
  {
   "cell_type": "markdown",
   "id": "25e3ef09",
   "metadata": {},
   "source": [
    "Linear Regression"
   ]
  },
  {
   "cell_type": "code",
   "execution_count": 12,
   "id": "6df6081f",
   "metadata": {},
   "outputs": [
    {
     "data": {
      "text/plain": [
       "['Pregnancies',\n",
       " 'Glucose',\n",
       " 'BloodPressure',\n",
       " 'SkinThickness',\n",
       " 'Insulin',\n",
       " 'BMI',\n",
       " 'DiabetesPedigreeFunction',\n",
       " 'Age']"
      ]
     },
     "execution_count": 12,
     "metadata": {},
     "output_type": "execute_result"
    }
   ],
   "source": [
    "num_cols = ['Pregnancies','Glucose','BloodPressure','SkinThickness','Insulin','BMI','DiabetesPedigreeFunction','Age']\n",
    "num_cols"
   ]
  },
  {
   "cell_type": "code",
   "execution_count": 13,
   "id": "76479313",
   "metadata": {},
   "outputs": [],
   "source": [
    "scaler = StandardScaler()\n",
    "scaler.fit(X_train[num_cols])\n",
    "X_train[num_cols] = scaler.transform(X_train[num_cols])"
   ]
  },
  {
   "cell_type": "code",
   "execution_count": 14,
   "id": "95fe3395",
   "metadata": {},
   "outputs": [
    {
     "data": {
      "text/html": [
       "<div>\n",
       "<style scoped>\n",
       "    .dataframe tbody tr th:only-of-type {\n",
       "        vertical-align: middle;\n",
       "    }\n",
       "\n",
       "    .dataframe tbody tr th {\n",
       "        vertical-align: top;\n",
       "    }\n",
       "\n",
       "    .dataframe thead th {\n",
       "        text-align: right;\n",
       "    }\n",
       "</style>\n",
       "<table border=\"1\" class=\"dataframe\">\n",
       "  <thead>\n",
       "    <tr style=\"text-align: right;\">\n",
       "      <th></th>\n",
       "      <th>Pregnancies</th>\n",
       "      <th>Glucose</th>\n",
       "      <th>BloodPressure</th>\n",
       "      <th>SkinThickness</th>\n",
       "      <th>Insulin</th>\n",
       "      <th>BMI</th>\n",
       "      <th>DiabetesPedigreeFunction</th>\n",
       "      <th>Age</th>\n",
       "    </tr>\n",
       "  </thead>\n",
       "  <tbody>\n",
       "    <tr>\n",
       "      <th>244</th>\n",
       "      <td>-0.551450</td>\n",
       "      <td>0.777571</td>\n",
       "      <td>0.361888</td>\n",
       "      <td>0.914851</td>\n",
       "      <td>0.986153</td>\n",
       "      <td>0.784251</td>\n",
       "      <td>-0.433921</td>\n",
       "      <td>-0.362423</td>\n",
       "    </tr>\n",
       "    <tr>\n",
       "      <th>394</th>\n",
       "      <td>0.037275</td>\n",
       "      <td>1.160650</td>\n",
       "      <td>0.458117</td>\n",
       "      <td>-1.282265</td>\n",
       "      <td>-0.695746</td>\n",
       "      <td>0.112713</td>\n",
       "      <td>1.037736</td>\n",
       "      <td>-0.188265</td>\n",
       "    </tr>\n",
       "    <tr>\n",
       "      <th>367</th>\n",
       "      <td>-1.140176</td>\n",
       "      <td>-0.658974</td>\n",
       "      <td>-0.215484</td>\n",
       "      <td>-0.215094</td>\n",
       "      <td>-0.695746</td>\n",
       "      <td>-1.395078</td>\n",
       "      <td>-0.672987</td>\n",
       "      <td>-1.059054</td>\n",
       "    </tr>\n",
       "    <tr>\n",
       "      <th>433</th>\n",
       "      <td>-0.551450</td>\n",
       "      <td>0.554109</td>\n",
       "      <td>0.313774</td>\n",
       "      <td>-1.282265</td>\n",
       "      <td>-0.695746</td>\n",
       "      <td>-0.812235</td>\n",
       "      <td>-0.936892</td>\n",
       "      <td>-0.362423</td>\n",
       "    </tr>\n",
       "    <tr>\n",
       "      <th>555</th>\n",
       "      <td>0.920363</td>\n",
       "      <td>0.075260</td>\n",
       "      <td>0.073202</td>\n",
       "      <td>0.789302</td>\n",
       "      <td>1.168214</td>\n",
       "      <td>-0.824905</td>\n",
       "      <td>-0.955521</td>\n",
       "      <td>0.334208</td>\n",
       "    </tr>\n",
       "    <tr>\n",
       "      <th>...</th>\n",
       "      <td>...</td>\n",
       "      <td>...</td>\n",
       "      <td>...</td>\n",
       "      <td>...</td>\n",
       "      <td>...</td>\n",
       "      <td>...</td>\n",
       "      <td>...</td>\n",
       "      <td>...</td>\n",
       "    </tr>\n",
       "    <tr>\n",
       "      <th>658</th>\n",
       "      <td>2.097814</td>\n",
       "      <td>0.171030</td>\n",
       "      <td>1.805320</td>\n",
       "      <td>-1.282265</td>\n",
       "      <td>-0.695746</td>\n",
       "      <td>0.885615</td>\n",
       "      <td>-0.865483</td>\n",
       "      <td>1.553311</td>\n",
       "    </tr>\n",
       "    <tr>\n",
       "      <th>622</th>\n",
       "      <td>0.626000</td>\n",
       "      <td>1.958731</td>\n",
       "      <td>1.227947</td>\n",
       "      <td>-1.282265</td>\n",
       "      <td>-0.695746</td>\n",
       "      <td>1.113684</td>\n",
       "      <td>3.080669</td>\n",
       "      <td>1.030838</td>\n",
       "    </tr>\n",
       "    <tr>\n",
       "      <th>723</th>\n",
       "      <td>0.331638</td>\n",
       "      <td>-0.148202</td>\n",
       "      <td>0.843032</td>\n",
       "      <td>0.600977</td>\n",
       "      <td>0.214560</td>\n",
       "      <td>0.898286</td>\n",
       "      <td>-0.676092</td>\n",
       "      <td>0.769602</td>\n",
       "    </tr>\n",
       "    <tr>\n",
       "      <th>705</th>\n",
       "      <td>0.626000</td>\n",
       "      <td>-1.329362</td>\n",
       "      <td>0.554346</td>\n",
       "      <td>0.977626</td>\n",
       "      <td>-0.695746</td>\n",
       "      <td>0.986979</td>\n",
       "      <td>-0.905845</td>\n",
       "      <td>-0.449502</td>\n",
       "    </tr>\n",
       "    <tr>\n",
       "      <th>474</th>\n",
       "      <td>0.037275</td>\n",
       "      <td>-0.243972</td>\n",
       "      <td>-0.215484</td>\n",
       "      <td>-1.282265</td>\n",
       "      <td>-0.695746</td>\n",
       "      <td>-0.394107</td>\n",
       "      <td>-1.064187</td>\n",
       "      <td>-0.797817</td>\n",
       "    </tr>\n",
       "  </tbody>\n",
       "</table>\n",
       "<p>537 rows × 8 columns</p>\n",
       "</div>"
      ],
      "text/plain": [
       "     Pregnancies   Glucose  BloodPressure  SkinThickness   Insulin       BMI  \\\n",
       "244    -0.551450  0.777571       0.361888       0.914851  0.986153  0.784251   \n",
       "394     0.037275  1.160650       0.458117      -1.282265 -0.695746  0.112713   \n",
       "367    -1.140176 -0.658974      -0.215484      -0.215094 -0.695746 -1.395078   \n",
       "433    -0.551450  0.554109       0.313774      -1.282265 -0.695746 -0.812235   \n",
       "555     0.920363  0.075260       0.073202       0.789302  1.168214 -0.824905   \n",
       "..           ...       ...            ...            ...       ...       ...   \n",
       "658     2.097814  0.171030       1.805320      -1.282265 -0.695746  0.885615   \n",
       "622     0.626000  1.958731       1.227947      -1.282265 -0.695746  1.113684   \n",
       "723     0.331638 -0.148202       0.843032       0.600977  0.214560  0.898286   \n",
       "705     0.626000 -1.329362       0.554346       0.977626 -0.695746  0.986979   \n",
       "474     0.037275 -0.243972      -0.215484      -1.282265 -0.695746 -0.394107   \n",
       "\n",
       "     DiabetesPedigreeFunction       Age  \n",
       "244                 -0.433921 -0.362423  \n",
       "394                  1.037736 -0.188265  \n",
       "367                 -0.672987 -1.059054  \n",
       "433                 -0.936892 -0.362423  \n",
       "555                 -0.955521  0.334208  \n",
       "..                        ...       ...  \n",
       "658                 -0.865483  1.553311  \n",
       "622                  3.080669  1.030838  \n",
       "723                 -0.676092  0.769602  \n",
       "705                 -0.905845 -0.449502  \n",
       "474                 -1.064187 -0.797817  \n",
       "\n",
       "[537 rows x 8 columns]"
      ]
     },
     "execution_count": 14,
     "metadata": {},
     "output_type": "execute_result"
    }
   ],
   "source": [
    "X_train"
   ]
  },
  {
   "cell_type": "code",
   "execution_count": 17,
   "id": "b5c4d9bd",
   "metadata": {},
   "outputs": [
    {
     "data": {
      "text/html": [
       "<style>#sk-container-id-1 {color: black;}#sk-container-id-1 pre{padding: 0;}#sk-container-id-1 div.sk-toggleable {background-color: white;}#sk-container-id-1 label.sk-toggleable__label {cursor: pointer;display: block;width: 100%;margin-bottom: 0;padding: 0.3em;box-sizing: border-box;text-align: center;}#sk-container-id-1 label.sk-toggleable__label-arrow:before {content: \"▸\";float: left;margin-right: 0.25em;color: #696969;}#sk-container-id-1 label.sk-toggleable__label-arrow:hover:before {color: black;}#sk-container-id-1 div.sk-estimator:hover label.sk-toggleable__label-arrow:before {color: black;}#sk-container-id-1 div.sk-toggleable__content {max-height: 0;max-width: 0;overflow: hidden;text-align: left;background-color: #f0f8ff;}#sk-container-id-1 div.sk-toggleable__content pre {margin: 0.2em;color: black;border-radius: 0.25em;background-color: #f0f8ff;}#sk-container-id-1 input.sk-toggleable__control:checked~div.sk-toggleable__content {max-height: 200px;max-width: 100%;overflow: auto;}#sk-container-id-1 input.sk-toggleable__control:checked~label.sk-toggleable__label-arrow:before {content: \"▾\";}#sk-container-id-1 div.sk-estimator input.sk-toggleable__control:checked~label.sk-toggleable__label {background-color: #d4ebff;}#sk-container-id-1 div.sk-label input.sk-toggleable__control:checked~label.sk-toggleable__label {background-color: #d4ebff;}#sk-container-id-1 input.sk-hidden--visually {border: 0;clip: rect(1px 1px 1px 1px);clip: rect(1px, 1px, 1px, 1px);height: 1px;margin: -1px;overflow: hidden;padding: 0;position: absolute;width: 1px;}#sk-container-id-1 div.sk-estimator {font-family: monospace;background-color: #f0f8ff;border: 1px dotted black;border-radius: 0.25em;box-sizing: border-box;margin-bottom: 0.5em;}#sk-container-id-1 div.sk-estimator:hover {background-color: #d4ebff;}#sk-container-id-1 div.sk-parallel-item::after {content: \"\";width: 100%;border-bottom: 1px solid gray;flex-grow: 1;}#sk-container-id-1 div.sk-label:hover label.sk-toggleable__label {background-color: #d4ebff;}#sk-container-id-1 div.sk-serial::before {content: \"\";position: absolute;border-left: 1px solid gray;box-sizing: border-box;top: 0;bottom: 0;left: 50%;z-index: 0;}#sk-container-id-1 div.sk-serial {display: flex;flex-direction: column;align-items: center;background-color: white;padding-right: 0.2em;padding-left: 0.2em;position: relative;}#sk-container-id-1 div.sk-item {position: relative;z-index: 1;}#sk-container-id-1 div.sk-parallel {display: flex;align-items: stretch;justify-content: center;background-color: white;position: relative;}#sk-container-id-1 div.sk-item::before, #sk-container-id-1 div.sk-parallel-item::before {content: \"\";position: absolute;border-left: 1px solid gray;box-sizing: border-box;top: 0;bottom: 0;left: 50%;z-index: -1;}#sk-container-id-1 div.sk-parallel-item {display: flex;flex-direction: column;z-index: 1;position: relative;background-color: white;}#sk-container-id-1 div.sk-parallel-item:first-child::after {align-self: flex-end;width: 50%;}#sk-container-id-1 div.sk-parallel-item:last-child::after {align-self: flex-start;width: 50%;}#sk-container-id-1 div.sk-parallel-item:only-child::after {width: 0;}#sk-container-id-1 div.sk-dashed-wrapped {border: 1px dashed gray;margin: 0 0.4em 0.5em 0.4em;box-sizing: border-box;padding-bottom: 0.4em;background-color: white;}#sk-container-id-1 div.sk-label label {font-family: monospace;font-weight: bold;display: inline-block;line-height: 1.2em;}#sk-container-id-1 div.sk-label-container {text-align: center;}#sk-container-id-1 div.sk-container {/* jupyter's `normalize.less` sets `[hidden] { display: none; }` but bootstrap.min.css set `[hidden] { display: none !important; }` so we also need the `!important` here to be able to override the default hidden behavior on the sphinx rendered scikit-learn.org. See: https://github.com/scikit-learn/scikit-learn/issues/21755 */display: inline-block !important;position: relative;}#sk-container-id-1 div.sk-text-repr-fallback {display: none;}</style><div id=\"sk-container-id-1\" class=\"sk-top-container\"><div class=\"sk-text-repr-fallback\"><pre>LinearRegression()</pre><b>In a Jupyter environment, please rerun this cell to show the HTML representation or trust the notebook. <br />On GitHub, the HTML representation is unable to render, please try loading this page with nbviewer.org.</b></div><div class=\"sk-container\" hidden><div class=\"sk-item\"><div class=\"sk-estimator sk-toggleable\"><input class=\"sk-toggleable__control sk-hidden--visually\" id=\"sk-estimator-id-1\" type=\"checkbox\" checked><label for=\"sk-estimator-id-1\" class=\"sk-toggleable__label sk-toggleable__label-arrow\">LinearRegression</label><div class=\"sk-toggleable__content\"><pre>LinearRegression()</pre></div></div></div></div></div>"
      ],
      "text/plain": [
       "LinearRegression()"
      ]
     },
     "execution_count": 17,
     "metadata": {},
     "output_type": "execute_result"
    }
   ],
   "source": [
    "reg=LinearRegression()\n",
    "reg.fit(X_train, y_train)"
   ]
  },
  {
   "cell_type": "code",
   "execution_count": 18,
   "id": "60153e09",
   "metadata": {},
   "outputs": [
    {
     "data": {
      "text/plain": [
       "array([ 0.0813861 ,  0.18713635, -0.03956594,  0.00360676, -0.02854814,\n",
       "        0.09723235,  0.07505245,  0.03100231])"
      ]
     },
     "execution_count": 18,
     "metadata": {},
     "output_type": "execute_result"
    }
   ],
   "source": [
    "reg.coef_"
   ]
  },
  {
   "cell_type": "code",
   "execution_count": 19,
   "id": "abcf563c",
   "metadata": {},
   "outputs": [
    {
     "data": {
      "text/plain": [
       "0.33397235568357303"
      ]
     },
     "execution_count": 19,
     "metadata": {},
     "output_type": "execute_result"
    }
   ],
   "source": [
    "mean_absolute_error(y_train,reg.predict(X_train))"
   ]
  },
  {
   "cell_type": "code",
   "execution_count": 20,
   "id": "f51800e0",
   "metadata": {},
   "outputs": [
    {
     "name": "stdout",
     "output_type": "stream",
     "text": [
      "0.32733582224864455 0.39893125519807493\n"
     ]
    }
   ],
   "source": [
    "X_test[num_cols] = scaler.transform(X_test[num_cols])\n",
    "y_pred = reg.predict(X_test)\n",
    "print(mean_absolute_error(y_test,y_pred), mean_squared_error(y_test,y_pred)**0.5)"
   ]
  },
  {
   "cell_type": "code",
   "execution_count": null,
   "id": "2afb0536",
   "metadata": {},
   "outputs": [],
   "source": []
  }
 ],
 "metadata": {
  "kernelspec": {
   "display_name": "Python 3 (ipykernel)",
   "language": "python",
   "name": "python3"
  },
  "language_info": {
   "codemirror_mode": {
    "name": "ipython",
    "version": 3
   },
   "file_extension": ".py",
   "mimetype": "text/x-python",
   "name": "python",
   "nbconvert_exporter": "python",
   "pygments_lexer": "ipython3",
   "version": "3.11.5"
  }
 },
 "nbformat": 4,
 "nbformat_minor": 5
}
